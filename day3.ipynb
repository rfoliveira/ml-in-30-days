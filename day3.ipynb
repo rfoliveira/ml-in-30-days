{
 "cells": [
  {
   "cell_type": "markdown",
   "id": "3ffb3c88",
   "metadata": {},
   "source": [
    "# Understanding data and preprocessing\n",
    "## Types of data: strutured and unstructured\n",
    "\n",
    "<u>Structured data</u>\n",
    "\n",
    "Structured data refers to information that is organized in a fixed format, typically in tables, spreadsheets, or relational databases. It follows a predefined schema with rows and columns, making it easy to store, query, and analyze using database management systems and analytical tools. \n",
    "\n",
    "Examples of structured data: \n",
    "- Customer transaction records in a retail store  \n",
    "- Employee databases containing names, salaries, and job titles  \n",
    "- Financial statements showing revenues and expenses\n",
    "\n",
    "Structured data is advantageous for machine learning as it can be easily manipulated using programming languages like Python, SQL, and libraries such as Pandas and NumPy.\n",
    "\n",
    "<u>Unstructured data</u>\n",
    "\n",
    "Unstructured data, on the other hand, lacks a predefined format and does not fit neatly into tables or relational databases. It includes text, images, audio, and video files. Processing unstructured data requires specialized techniques, including natural language processing (NLP) for text, computer vision for images, and speech recognition for audio. \n",
    "\n",
    "Examples of unstructured data: \n",
    "\n",
    "- Social media posts, emails, and chat messages  \n",
    "- Medical imaging scans such as X-rays and MRIs  \n",
    "- Audio recordings and speech transcriptions  \n",
    "- Handling unstructured data often involves feature extraction and transformation techniques to convert the raw data into a structured format suitable for machine learning models."
   ]
  },
  {
   "cell_type": "markdown",
   "id": "72971b10",
   "metadata": {},
   "source": [
    "## Handling missing data\n",
    "\n",
    "In real-world datasets, missing values are a common issue and must be handled carefully to prevent bias or inaccurate predictions. There are several techniques to deal with missing data, depending on the context and severity of the problem."
   ]
  },
  {
   "cell_type": "code",
   "execution_count": null,
   "id": "cd3fef9c",
   "metadata": {},
   "outputs": [],
   "source": [
    "# 1. removing missing data\n",
    "import pandas as pd\n",
    "df = pd.read_csv('data.csv')\n",
    "df_cleaned = df.dropna()    # remove rows with missing values\n",
    "\n",
    "# 2. imputation (filling missing values)\n",
    "# Instead of removing missing data, we can fill in the gaps with meaningful values. \n",
    "# This can be done using:  \n",
    "# - Mean or median imputation for numerical data  \n",
    "# - Mode (most frequent value) for categorical data  \n",
    "# - Forward fill (using previous values) or backward fill (using next values) for time-series data\n",
    "df['Age'].fillna(df['Age'].mean(), inplace=True)  # fill missing ages with the mean\n",
    "\n",
    "# 3. Using Machine Learning Models for Imputation: \n",
    "# In some cases, missing values can be predicted using machine learning models trained on existing data. \n",
    "# Algorithms such as k-nearest neighbors (KNN) or regression models can estimate missing values based on known patterns.\n",
    "from sklearn.impute import KNNImputer\n",
    "imputer = KNNImputer(n_neighbors=3)\n",
    "df_imputed = pd.DataFrame(imputer.fit_transform(df))"
   ]
  },
  {
   "cell_type": "markdown",
   "id": "9977c1cb",
   "metadata": {},
   "source": [
    "## Data cleaning and transformation\n",
    "\n",
    "Once missing values are handled, further data cleaning and transformation steps are necessary to prepare the dataset for machine learning models.\n"
   ]
  },
  {
   "cell_type": "code",
   "execution_count": null,
   "id": "0fab9be5",
   "metadata": {},
   "outputs": [],
   "source": [
    "# Removing duplicates\n",
    "# df.drop_duplicates(inplace=True)    # Do not use \"inplace=True\" when modifying a dataframe.sonarqube(ipython:S6734)\n",
    "df.drop_duplicates()\n",
    "\n",
    "# Handling Outliers \n",
    "# Outliers are extreme values that deviate significantly from the dataset's overall distribution. \n",
    "# Outliers can skew model predictions and should be treated appropriately.\n",
    "import numpy as np\n",
    "z_scores = np.abs((df['Salary']-df['Salary'].mean()) / df['Salary'].std())\n",
    "df_no_outliers = df[z_scores < 3]  # Keeping values within 3 standard deviations\n"
   ]
  }
 ],
 "metadata": {
  "kernelspec": {
   "display_name": "Python 3",
   "language": "python",
   "name": "python3"
  },
  "language_info": {
   "codemirror_mode": {
    "name": "ipython",
    "version": 3
   },
   "file_extension": ".py",
   "mimetype": "text/x-python",
   "name": "python",
   "nbconvert_exporter": "python",
   "pygments_lexer": "ipython3",
   "version": "3.12.0"
  }
 },
 "nbformat": 4,
 "nbformat_minor": 5
}
